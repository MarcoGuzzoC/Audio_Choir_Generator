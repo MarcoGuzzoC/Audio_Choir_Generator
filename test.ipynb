{
  "cells": [
    {
      "cell_type": "code",
      "execution_count": null,
      "metadata": {
        "id": "kbf9hPRG7Pjr"
      },
      "outputs": [],
      "source": [
        "from glob import glob\n",
        "import matplotlib.pyplot as plt\n",
        "import numpy as np\n",
        "from numpy import asarray\n",
        "from numpy.random import randn\n",
        "from numpy.random import randint\n",
        "from numpy import linspace\n",
        "import soundfile as sf\n",
        "import time\n",
        "import IPython\n",
        "\n",
        "from tqdm import tqdm\n",
        "from functools import partial\n",
        "import math\n",
        "import heapq\n",
        "\n",
        "import librosa as lib\n",
        "\n",
        "\n",
        "import scipy.signal\n",
        "from scipy.io.wavfile import read, write\n",
        "import IPython.display as ipd\n",
        "\n",
        "from useful_functions import *"
      ]
    },
    {
      "cell_type": "code",
      "execution_count": null,
      "metadata": {},
      "outputs": [],
      "source": [
        "sine = generate_sinewave(5,5,250)\n",
        "\n",
        "sqr = generate_squarewave(5,5,250)\n",
        "\n",
        "saw = generate_sawtooth(5,5,250)\n",
        "\n",
        "tri = generate_trianglewave(5,5,250)\n",
        "\n",
        "mod_sin = modulated_sine(5,5,10,250)"
      ]
    },
    {
      "cell_type": "code",
      "execution_count": null,
      "metadata": {},
      "outputs": [],
      "source": [
        "plt.figure(figsize=(20,15))\n",
        "\n",
        "plt.subplot(5,2,1)\n",
        "plt.plot(sine[0][:1000])\n",
        "plt.subplot(5,2,2)\n",
        "plt.plot(sine[1][:1000])\n",
        "plt.subplot(5,2,3)\n",
        "plt.plot(sqr[0][:1000])\n",
        "plt.subplot(5,2,4)\n",
        "plt.plot(sqr[1][:1000])\n",
        "plt.subplot(5,2,5)\n",
        "plt.plot(saw[0][:1000])\n",
        "plt.subplot(5,2,6)\n",
        "plt.plot(saw[1][:1000])\n",
        "plt.subplot(5,2,7)\n",
        "plt.plot(tri[0][:1000])\n",
        "plt.subplot(5,2,8)\n",
        "plt.plot(tri[1][:1000])\n",
        "plt.subplot(5,2,9)\n",
        "plt.plot(mod_sin[0][:1000])\n",
        "plt.subplot(5,2,10)\n",
        "plt.plot(mod_sin[1][:1000])\n",
        "\n",
        "plt.show()"
      ]
    },
    {
      "cell_type": "code",
      "execution_count": null,
      "metadata": {},
      "outputs": [],
      "source": [
        "ipd.Audio(sine[0], rate=22050)\n"
      ]
    },
    {
      "cell_type": "code",
      "execution_count": null,
      "metadata": {},
      "outputs": [],
      "source": [
        "ipd.Audio(sqr[0], rate=22050)"
      ]
    },
    {
      "cell_type": "code",
      "execution_count": null,
      "metadata": {},
      "outputs": [],
      "source": [
        "ipd.Audio(saw[0], rate=22050)"
      ]
    },
    {
      "cell_type": "code",
      "execution_count": null,
      "metadata": {},
      "outputs": [],
      "source": [
        "ipd.Audio(tri[0], rate=22050)"
      ]
    },
    {
      "cell_type": "code",
      "execution_count": null,
      "metadata": {},
      "outputs": [],
      "source": [
        "ipd.Audio(mod_sin[1],rate=22050)"
      ]
    },
    {
      "cell_type": "code",
      "execution_count": null,
      "metadata": {},
      "outputs": [],
      "source": [
        "spec = preprocess_pipeline([\"Grego_chant.wav\"])"
      ]
    },
    {
      "cell_type": "code",
      "execution_count": null,
      "metadata": {},
      "outputs": [],
      "source": [
        "in_spec = spec[97]\n",
        "\n",
        "fig, ax = plt.subplots()\n",
        "img = lib.display.specshow(in_spec, x_axis='time', y_axis='mel', sr=22050,hop_length=864, fmax=8000, ax=ax)\n",
        "\n",
        "ax.set(title=\"\")\n",
        "fig.colorbar(img,ax=[ax],format='%+2.0f dB')\n",
        "plt.show()"
      ]
    },
    {
      "cell_type": "code",
      "execution_count": null,
      "metadata": {},
      "outputs": [],
      "source": [
        "f, t, Sxx = scipy.signal.spectrogram(sine[0], 22050)\n",
        "plt.pcolormesh(t, f, Sxx,shading='gouraud')\n",
        "plt.ylabel('Frequency [Hz]')\n",
        "plt.xlabel('Time [sec]')\n",
        "plt.show()"
      ]
    },
    {
      "cell_type": "code",
      "execution_count": null,
      "metadata": {},
      "outputs": [],
      "source": [
        "f, t, Sxx = scipy.signal.spectrogram(saw[0], 22050)\n",
        "plt.pcolormesh(t, f, Sxx,shading='gouraud')\n",
        "plt.ylabel('Frequency [Hz]')\n",
        "plt.xlabel('Time [sec]')\n",
        "plt.show()"
      ]
    },
    {
      "cell_type": "code",
      "execution_count": null,
      "metadata": {},
      "outputs": [],
      "source": [
        "f, t, Sxx = scipy.signal.spectrogram(tri[0], 22050)\n",
        "plt.pcolormesh(t, f, Sxx)\n",
        "plt.ylabel('Frequency [Hz]')\n",
        "plt.xlabel('Time [sec]')\n",
        "plt.show()"
      ]
    },
    {
      "cell_type": "code",
      "execution_count": null,
      "metadata": {},
      "outputs": [],
      "source": [
        "f, t, Sxx = scipy.signal.spectrogram(mod_sin[0], 22050)\n",
        "plt.pcolormesh(t, f, Sxx)\n",
        "plt.ylabel('Frequency [Hz]')\n",
        "plt.xlabel('Time [sec]')\n",
        "plt.show()"
      ]
    },
    {
      "cell_type": "code",
      "execution_count": null,
      "metadata": {},
      "outputs": [],
      "source": []
    }
  ],
  "metadata": {
    "accelerator": "GPU",
    "colab": {
      "collapsed_sections": [
        "jW7iOo_KIOBX",
        "kWqhd1LILIxD",
        "uTuKspchQjY0"
      ],
      "provenance": []
    },
    "kernelspec": {
      "display_name": "Python 3",
      "name": "python3"
    },
    "language_info": {
      "codemirror_mode": {
        "name": "ipython",
        "version": 3
      },
      "file_extension": ".py",
      "mimetype": "text/x-python",
      "name": "python",
      "nbconvert_exporter": "python",
      "pygments_lexer": "ipython3",
      "version": "3.9.13"
    }
  },
  "nbformat": 4,
  "nbformat_minor": 0
}
